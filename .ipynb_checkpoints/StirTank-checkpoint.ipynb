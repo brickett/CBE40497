{
 "cells": [
  {
   "cell_type": "markdown",
   "metadata": {},
   "source": [
    "# Exothermic Stirred Tank  \n",
    "DESCRIPTION\n",
    "\n",
    "### Nonlinear Equations   \n",
    "The coupled nonlinear equations for the relationship are given as:  \n",
    "\n",
    "$$ \\frac{dN_1}{dt} = r_1 N_1 \\Bigg( \\frac{K_1 - N_1 - \\alpha N_2}{K_1} \\Bigg)  $$\n",
    "<br>\n",
    "$$ \\frac{dN_2}{dt} = r_2 N_2 \\Bigg( \\frac{K_2 - N_2 - \\beta N_1}{K_2} \\Bigg)  $$"
   ]
  },
  {
   "cell_type": "code",
   "execution_count": null,
   "metadata": {
    "collapsed": true
   },
   "outputs": [],
   "source": []
  }
 ],
 "metadata": {
  "anaconda-cloud": {},
  "kernelspec": {
   "display_name": "Python [default]",
   "language": "python",
   "name": "python3"
  },
  "language_info": {
   "codemirror_mode": {
    "name": "ipython",
    "version": 3
   },
   "file_extension": ".py",
   "mimetype": "text/x-python",
   "name": "python",
   "nbconvert_exporter": "python",
   "pygments_lexer": "ipython3",
   "version": "3.5.2"
  }
 },
 "nbformat": 4,
 "nbformat_minor": 1
}
