{
 "cells": [
  {
   "cell_type": "markdown",
   "metadata": {},
   "source": [
    "# Lorenz Chaos Equations  \n",
    "The Lorenz equations are a set of differential equations in three dimensional space that explain chaotic convergence on two points in that space. However, they can be used for a range of applications.\n",
    "\n",
    "### Nonlinear Equations   \n",
    "The coupled nonlinear equations for the relationship are given as:  \n",
    "\n",
    "$ \\frac{dx}{dt} = \\sigma\\big( y - x \\big)  $\n",
    "<br>\n",
    "\n",
    "$ \\frac{dy}{dt} = x \\big( \\rho - z \\big) - y $\n",
    "<br>\n",
    "\n",
    "$ \\frac{dz}{dt} = xy - \\beta z$\n",
    "<br>"
   ]
  },
  {
   "cell_type": "code",
   "execution_count": 59,
   "metadata": {
    "collapsed": false
   },
   "outputs": [],
   "source": [
    "#import numerical, graphics, and interactive packages\n",
    "import numpy as np #numerical processing\n",
    "import matplotlib.pyplot as plt #plot package\n",
    "import mpl_toolkits.mplot3d #3D plotting help\n",
    "import seaborn as sns #makes plots look nice\n",
    "from ipywidgets import (IntSlider, FloatSlider, FloatText, jslink) #the widgets which will be used for parameter input\n",
    "from IPython.display import display\n",
    "from scipy.integrate import odeint\n",
    "import sympy #symbolic python, to calculate diffEQ solutions\n",
    "\n",
    "#magic function to plot in Jupyter\n",
    "%matplotlib inline\n",
    "\n",
    "#make symbolic python output in LaTeX\n",
    "sympy.init_printing(use_unicode=True)"
   ]
  },
  {
   "cell_type": "code",
   "execution_count": 17,
   "metadata": {
    "collapsed": false
   },
   "outputs": [
    {
     "data": {
      "image/png": "[encoded data removed]",
      "text/latex": [
       "$$\\left ( \\sigma \\left(- x + y\\right), \\quad x \\left(\\rho - z\\right) - y, \\quad - \\beta z + x y\\right )$$"
      ],
      "text/plain": [
       "(σ⋅(-x + y), x⋅(ρ - z) - y, -β⋅z + x⋅y)"
      ]
     },
     "execution_count": 17,
     "metadata": {},
     "output_type": "execute_result"
    }
   ],
   "source": [
    "#create symbolic variables\n",
    "x, y, z = sympy.symbols('x y z')\n",
    "sigma, rho, beta = sympy.symbols('sigma rho beta')\n",
    "\n",
    "#create symbolic diffEQs\n",
    "dx_dt = sigma * (y - x)\n",
    "dy_dt = x * (rho - z) - y\n",
    "dz_dt = x * y - beta * z\n",
    "\n",
    "#display equations\n",
    "dx_dt, dy_dt, dz_dt"
   ]
  },
  {
   "cell_type": "code",
   "execution_count": 18,
   "metadata": {
    "collapsed": false
   },
   "outputs": [
    {
     "data": {
      "image/png": "[encoded data removed]",
      "text/latex": [
       "$$\\left ( \\sigma \\left(- x + y\\right) = 0, \\quad x \\left(\\rho - z\\right) - y = 0, \\quad - \\beta z + x y = 0\\right )$$"
      ],
      "text/plain": [
       "(σ⋅(-x + y) = 0, x⋅(ρ - z) - y = 0, -β⋅z + x⋅y = 0)"
      ]
     },
     "execution_count": 18,
     "metadata": {},
     "output_type": "execute_result"
    }
   ],
   "source": [
    "#create steady state equations\n",
    "ss_dx = sympy.Eq(dx_dt, 0)\n",
    "ss_dy = sympy.Eq(dy_dt, 0)\n",
    "ss_dz = sympy.Eq(dz_dt, 0)\n",
    "\n",
    "ss_dx, ss_dy, ss_dz"
   ]
  },
  {
   "cell_type": "code",
   "execution_count": 19,
   "metadata": {
    "collapsed": false
   },
   "outputs": [
    {
     "data": {
      "image/png": "[encoded data removed]",
      "text/latex": [
       "$$\\left ( \\left [ y\\right ], \\quad \\left [ x \\left(\\rho - z\\right)\\right ], \\quad \\left [ \\frac{x y}{\\beta}\\right ]\\right )$$"
      ],
      "text/plain": [
       "⎛                  ⎡x⋅y⎤⎞\n",
       "⎜[y], [x⋅(ρ - z)], ⎢───⎥⎟\n",
       "⎝                  ⎣ β ⎦⎠"
      ]
     },
     "execution_count": 19,
     "metadata": {},
     "output_type": "execute_result"
    }
   ],
   "source": [
    "#find steady state\n",
    "ss_dx_sol = sympy.solve(ss_dx, x)\n",
    "ss_dy_sol = sympy.solve(ss_dy, y)\n",
    "ss_dz_sol = sympy.solve(ss_dz, z)\n",
    "\n",
    "#display steady state\n",
    "ss_dx_sol, ss_dy_sol, ss_dz_sol"
   ]
  },
  {
   "cell_type": "code",
   "execution_count": null,
   "metadata": {
    "collapsed": false
   },
   "outputs": [],
   "source": [
    "#solve the system simultaneously\n",
    "ss_dict = sympy.solve((sympy.Eq(x, ss_dx_sol), sympy.Eq(y, ss_dy_sol), sympy.Eq(z, ss_dz_sol)), (x,y,z))\n",
    "\n",
    "ss_dict"
   ]
  },
  {
   "cell_type": "code",
   "execution_count": 20,
   "metadata": {
    "collapsed": false
   },
   "outputs": [],
   "source": [
    "#create functions for numerical evaluation\n",
    "dx_dt_num = sympy.utilities.lambdify([x, y, sigma], dx_dt)\n",
    "dy_dt_num = sympy.utilities.lambdify([x, y, z, rho], dy_dt)\n",
    "dz_dt_num = sympy.utilities.lambdify([x, y, z, beta], dz_dt)\n",
    "\n",
    "def lorenz_rhs(terms, t):\n",
    "    x_in, y_in, z_in = terms\n",
    "    \n",
    "    #numerical derivatives\n",
    "    dx_dot=dx_dt_num(x_in, y_in, sigma_in)\n",
    "    dy_dot=dy_dt_num(x_in, y_in, z_in, rho_in)\n",
    "    dz_dot=dz_dt_num(x_in, y_in, z_in, beta_in)\n",
    "    \n",
    "\n",
    "    return np.array([dx_dot, dy_dot, dz_dot])"
   ]
  },
  {
   "cell_type": "code",
   "execution_count": 82,
   "metadata": {
    "collapsed": false
   },
   "outputs": [],
   "source": [
    "u = IntSlider(description = '$\\sigma$')\n",
    "u2= FloatText()\n",
    "u.value = 10\n",
    "jslink((u, 'value'), (u2, 'value'))\n",
    "display(u,u2)\n",
    "\n",
    "v = FloatSlider(description = '$\\rho$')\n",
    "v2= FloatText()\n",
    "v.value = 8/3\n",
    "jslink((v, 'value'), (v2, 'value'))\n",
    "display(v,v2)\n",
    "\n",
    "w = IntSlider(description = '$\\beta$')\n",
    "w2 = FloatText()\n",
    "w.value = 28\n",
    "jslink((w, 'value'), (w2, 'value'))\n",
    "display(w,w2)"
   ]
  },
  {
   "cell_type": "code",
   "execution_count": 6,
   "metadata": {
    "collapsed": false
   },
   "outputs": [
    {
     "data": {
      "text/plain": [
       "[<mpl_toolkits.mplot3d.art3d.Line3D at 0x26fa5c7f630>]"
      ]
     },
     "execution_count": 6,
     "metadata": {},
     "output_type": "execute_result"
    },
    {
     "data": {
      "image/png": "[encoded data removed]",
      "text/plain": [
       "<matplotlib.figure.Figure at 0x26fa5c948d0>"
      ]
     },
     "metadata": {},
     "output_type": "display_data"
    }
   ],
   "source": [
    "#define parameters\n",
    "sigma_in = 10\n",
    "rho_in = 8/3\n",
    "beta_in = 28\n",
    "\n",
    "#initial condition\n",
    "xyz_0 = [0.1, 0.1, 0.1]\n",
    "\n",
    "#timestep\n",
    "dt = 0.01\n",
    "tf = 1000\n",
    "t = np.linspace(0, tf, tf/dt+1)\n",
    "\n",
    "x_y_z = odeint(lorenz_rhs, xyz_0, t)\n",
    "\n",
    "#plot\n",
    "fig = plt.figure()\n",
    "ax = fig.gca(projection='3d')\n",
    "ax.plot(x_y_z[:,0], x_y_z[:,1], x_y_z[:,2])"
   ]
  },
  {
   "cell_type": "code",
   "execution_count": null,
   "metadata": {
    "collapsed": true
   },
   "outputs": [],
   "source": []
  }
 ],
 "metadata": {
  "anaconda-cloud": {},
  "kernelspec": {
   "display_name": "Python [default]",
   "language": "python",
   "name": "python3"
  },
  "language_info": {
   "codemirror_mode": {
    "name": "ipython",
    "version": 3
   },
   "file_extension": ".py",
   "mimetype": "text/x-python",
   "name": "python",
   "nbconvert_exporter": "python",
   "pygments_lexer": "ipython3",
   "version": "3.5.2"
  },
  "widgets": {
   "state": {
    "01fd6e818f984a46bfc027b8300693a4": {
     "views": [
      {
       "cell_index": 7
      }
     ]
    },
    "028ac561bf4e4b2d9fc61d2872287d4c": {
     "views": [
      {
       "cell_index": 7
      }
     ]
    },
    "04486f261cee480fb8fbb92ab0d6976d": {
     "views": [
      {
       "cell_index": 7
      }
     ]
    },
    "08d1e801c5804c90a77f05db8e1471e7": {
     "views": [
      {
       "cell_index": 7
      }
     ]
    },
    "0ac32a46065240119b39ce432db1f834": {
     "views": [
      {
       "cell_index": 7
      }
     ]
    },
    "0c55503c79e1451fb76fe3ac3026aed4": {
     "views": [
      {
       "cell_index": 7
      }
     ]
    },
    "0f4c247b95b0467cba22ef734e41f59d": {
     "views": [
      {
       "cell_index": 7
      }
     ]
    },
    "10224c10281f4219be3bfae8ab4321a5": {
     "views": [
      {
       "cell_index": 7
      }
     ]
    },
    "174cf9cb7b044adc892d04c9783c4a90": {
     "views": [
      {
       "cell_index": 7
      }
     ]
    },
    "17f39797367f498aa5fe0d23d65d2aef": {
     "views": [
      {
       "cell_index": 7
      }
     ]
    },
    "20a5e1a9e9a84d66a8d8363bdbeb45f3": {
     "views": [
      {
       "cell_index": 7
      }
     ]
    },
    "2229f6ab377341a99a98476d0058811a": {
     "views": [
      {
       "cell_index": 7
      }
     ]
    },
    "231cc5205ade4cc8952a3c9f306c6bdc": {
     "views": [
      {
       "cell_index": 7
      }
     ]
    },
    "247c31dfe88f4ccebea07f27c8b6e728": {
     "views": [
      {
       "cell_index": 7
      }
     ]
    },
    "282221cc5bfe4ed8a9488bc9ee51d480": {
     "views": [
      {
       "cell_index": 7
      }
     ]
    },
    "28eb6c4e9ae84da7897eade7c6cb4dc3": {
     "views": [
      {
       "cell_index": 7
      }
     ]
    },
    "29b3f0d60567475cb9ee53cbd5a75a6f": {
     "views": [
      {
       "cell_index": 7
      }
     ]
    },
    "32eb4bb45e9a4e60a19318a4fc7361fc": {
     "views": [
      {
       "cell_index": 7
      }
     ]
    },
    "3cc96509c0584a2fbef0d4c886cf8684": {
     "views": [
      {
       "cell_index": 7
      }
     ]
    },
    "3d762c5df92142c0bc1de5a69ec8d365": {
     "views": [
      {
       "cell_index": 7
      }
     ]
    },
    "3dd8c3db8d834dfb8152fad1d4bd3d48": {
     "views": [
      {
       "cell_index": 7
      }
     ]
    },
    "41b87fb78e634d4fb62f7114fb66f718": {
     "views": [
      {
       "cell_index": 7
      }
     ]
    },
    "45f44ad28fbe461fa5887c8d0b9d81b3": {
     "views": [
      {
       "cell_index": 7
      }
     ]
    },
    "4747d2b5d6c24626bea60a29533778a1": {
     "views": [
      {
       "cell_index": 7
      }
     ]
    },
    "4899e91efc524adc8f3ee0ddf449a1d9": {
     "views": [
      {
       "cell_index": 7
      }
     ]
    },
    "4b04f4bc83d544079c2bf25706f0209e": {
     "views": [
      {
       "cell_index": 7
      }
     ]
    },
    "4e2cf71995924b81950c759ed87c8d84": {
     "views": [
      {
       "cell_index": 7
      }
     ]
    },
    "513a6f6182454b6499b2ce7c2f8b9c0f": {
     "views": [
      {
       "cell_index": 7
      }
     ]
    },
    "53faa3c646cf49aab9c36cf832f775b7": {
     "views": [
      {
       "cell_index": 7
      }
     ]
    },
    "56a377838e7747cbb7e519acabc5d438": {
     "views": [
      {
       "cell_index": 7
      }
     ]
    },
    "57465ed1607040f7895a6d8185daa0b8": {
     "views": [
      {
       "cell_index": 7
      }
     ]
    },
    "586ed45f55ae449f8312f4d681af156d": {
     "views": [
      {
       "cell_index": 7
      }
     ]
    },
    "5bf3e990bb8c44f09c53c924e84604b5": {
     "views": [
      {
       "cell_index": 7
      }
     ]
    },
    "5f54cb80746f4e16951079eab9fc1828": {
     "views": [
      {
       "cell_index": 7
      }
     ]
    },
    "5f74f832b3d8453797e57ab2d41795e1": {
     "views": [
      {
       "cell_index": 7
      }
     ]
    },
    "60eaa9a39e2047fd808ceaa5efa71fbd": {
     "views": [
      {
       "cell_index": 7
      }
     ]
    },
    "6166e50f69ee4968acd4a2c6340a7508": {
     "views": [
      {
       "cell_index": 7
      }
     ]
    },
    "62180086077b49968f5657d0a5bef0ca": {
     "views": [
      {
       "cell_index": 7
      }
     ]
    },
    "62e20f843ac54f34b26da376faf0bdbe": {
     "views": [
      {
       "cell_index": 7
      }
     ]
    },
    "631b0f729f8b4cc3a186dc731c00424d": {
     "views": [
      {
       "cell_index": 7
      }
     ]
    },
    "739878dc3afc438dbf6c4608ce7d6cc1": {
     "views": [
      {
       "cell_index": 7
      }
     ]
    },
    "7bdd69cea746431a8a931729d56fda7f": {
     "views": [
      {
       "cell_index": 7
      }
     ]
    },
    "7cb6c7ce6f7a4f6b85cdb70ad28f9dae": {
     "views": [
      {
       "cell_index": 7
      }
     ]
    },
    "7d54c31849744d21941c4b2e264234bb": {
     "views": [
      {
       "cell_index": 7
      }
     ]
    },
    "7d716c8caa004751bf52a69ffeef6909": {
     "views": [
      {
       "cell_index": 7
      }
     ]
    },
    "84404267cee740ffb616519722c74c53": {
     "views": [
      {
       "cell_index": 7
      }
     ]
    },
    "8b1c6da8933a49e68aba9ce59eececc1": {
     "views": [
      {
       "cell_index": 7
      }
     ]
    },
    "8b932b2c97e74cedac5d3fc791711f82": {
     "views": [
      {
       "cell_index": 7
      }
     ]
    },
    "8cab0aeb7a84487c887cccb335920869": {
     "views": [
      {
       "cell_index": 7
      }
     ]
    },
    "8d387413be304d739850bb9c177ca643": {
     "views": [
      {
       "cell_index": 7
      }
     ]
    },
    "917fd2fe9abb48beb005d0c432519e77": {
     "views": [
      {
       "cell_index": 7
      }
     ]
    },
    "98e7c24099cc474691ae2c13268ffe92": {
     "views": [
      {
       "cell_index": 7
      }
     ]
    },
    "9d98ed593175436d848a61feb31918c3": {
     "views": [
      {
       "cell_index": 7
      }
     ]
    },
    "9f92beab39b24b82b62976ae9e66f4a9": {
     "views": [
      {
       "cell_index": 7
      }
     ]
    },
    "9f965fc9dd7048339c70132cb68da10d": {
     "views": [
      {
       "cell_index": 7
      }
     ]
    },
    "aa9695678f4e4edd99f9297f1d259e2d": {
     "views": [
      {
       "cell_index": 7
      }
     ]
    },
    "ac0b40d15f874c249429ecb592af7398": {
     "views": [
      {
       "cell_index": 7
      }
     ]
    },
    "af8ecb51e90f47c2bf840c0cd90d0a4f": {
     "views": [
      {
       "cell_index": 7
      }
     ]
    },
    "b3966e23d25448189b69a45b9e0f177d": {
     "views": [
      {
       "cell_index": 7
      }
     ]
    },
    "b39765590876489e8c455a1ad6ca2ba7": {
     "views": [
      {
       "cell_index": 7
      }
     ]
    },
    "b8acbe32b46c41f6b80cd56d7d4dac1e": {
     "views": [
      {
       "cell_index": 7
      }
     ]
    },
    "bcdd73b20cac4211bbe1014f45cfb2e8": {
     "views": [
      {
       "cell_index": 7
      }
     ]
    },
    "c4bf4f827be9419e8815e567cefe7c72": {
     "views": [
      {
       "cell_index": 7
      }
     ]
    },
    "c51813f749234c25a45301570ec2f133": {
     "views": [
      {
       "cell_index": 7
      }
     ]
    },
    "c8034ad41d92434a8a755606f27ee117": {
     "views": [
      {
       "cell_index": 7
      }
     ]
    },
    "cccc8f2c3135400aa293892c32d34273": {
     "views": [
      {
       "cell_index": 7
      }
     ]
    },
    "d8d0ce2d2db449478bfa63982e55b04c": {
     "views": [
      {
       "cell_index": 7
      }
     ]
    },
    "dd5ac6654fe1431b9af81b71bc0851ac": {
     "views": [
      {
       "cell_index": 7
      }
     ]
    },
    "f1d6b7299ffd4c8db2d1381578f87f0a": {
     "views": [
      {
       "cell_index": 7
      }
     ]
    },
    "fd95c422649d41589f0495446b32b553": {
     "views": [
      {
       "cell_index": 7
      }
     ]
    }
   },
   "version": "1.2.0"
  }
 },
 "nbformat": 4,
 "nbformat_minor": 1
}
