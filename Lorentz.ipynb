{
 "cells": [
  {
   "cell_type": "markdown",
   "metadata": {},
   "source": [
    "# Lorenz Chaos Equations  \n",
    "The Lorenz equations are a set of differential equations in three dimensional space that explain chaotic convergence on two points in that space. However, they can be used for a range of applications.\n",
    "\n",
    "### Nonlinear Equations   \n",
    "The coupled nonlinear equations for the relationship are given as:  \n",
    "\n",
    "$$ \\frac{dx}{dt} = \\sigma\\big( y - x \\big)  $$\n",
    "<br>\n",
    "\n",
    "$$ \\frac{dy}{dt} = x \\big( \\rho - z \\big)  $$\n",
    "<br>\n",
    "\n",
    "$$ \\frac{dz}{dt} = xy - \\beta z$$\n",
    "<br>"
   ]
  },
  {
   "cell_type": "code",
   "execution_count": 7,
   "metadata": {
    "collapsed": false
   },
   "outputs": [],
   "source": [
    "#import numerical, graphics, and interactive packages\n",
    "import numpy as np\n",
    "import matplotlib.pyplot as plt\n",
    "import mpl_toolkits.mplot3d\n",
    "import seaborn as sns\n",
    "from ipywidgets import interact\n",
    "\n",
    "%matplotlib inline #magic function to plot properly in Jupyter"
   ]
  },
  {
   "cell_type": "code",
   "execution_count": null,
   "metadata": {
    "collapsed": true
   },
   "outputs": [],
   "source": []
  }
 ],
 "metadata": {
  "anaconda-cloud": {},
  "kernelspec": {
   "display_name": "Python [default]",
   "language": "python",
   "name": "python3"
  },
  "language_info": {
   "codemirror_mode": {
    "name": "ipython",
    "version": 3
   },
   "file_extension": ".py",
   "mimetype": "text/x-python",
   "name": "python",
   "nbconvert_exporter": "python",
   "pygments_lexer": "ipython3",
   "version": "3.5.2"
  }
 },
 "nbformat": 4,
 "nbformat_minor": 1
}
