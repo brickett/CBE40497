{
 "cells": [
  {
   "cell_type": "markdown",
   "metadata": {},
   "source": [
    "# Lorenz Chaos Equations  \n",
    "The Lorenz equations are a set of differential equations in three dimensional space that explain chaotic convergence on two points in that space. However, they can be used for a range of applications.\n",
    "\n",
    "### Nonlinear Equations   \n",
    "The coupled nonlinear equations for the relationship are given as:  \n",
    "\n",
    "$ \\frac{dx}{dt} = \\sigma\\big( y - x \\big)  $\n",
    "<br>\n",
    "\n",
    "$ \\frac{dy}{dt} = x \\big( \\rho - z \\big) - y $\n",
    "<br>\n",
    "\n",
    "$ \\frac{dz}{dt} = xy - \\beta z$\n",
    "<br>"
   ]
  },
  {
   "cell_type": "code",
   "execution_count": 1,
   "metadata": {
    "collapsed": false
   },
   "outputs": [],
   "source": [
    "#import numerical, graphics, and interactive packages\n",
    "import numpy as np #numerical processing\n",
    "import matplotlib.pyplot as plt #plot package\n",
    "from matplotlib import animation\n",
    "import mpl_toolkits.mplot3d #3D plotting help\n",
    "import seaborn as sns #makes plots look nice\n",
    "from ipywidgets import (IntSlider, FloatSlider, FloatText, jslink) #the widgets which will be used for parameter input\n",
    "from IPython.display import (display, HTML)\n",
    "from scipy.integrate import odeint\n",
    "import sympy #symbolic python, to calculate diffEQ solutions\n",
    "\n",
    "#magic function to plot in Jupyter\n",
    "%matplotlib inline\n",
    "\n",
    "#make symbolic python output in LaTeX\n",
    "sympy.init_printing(use_unicode=True)"
   ]
  },
  {
   "cell_type": "code",
   "execution_count": 2,
   "metadata": {
    "collapsed": false
   },
   "outputs": [
    {
     "data": {
      "image/png": "[encoded data removed]",
      "text/latex": [
       "$$\\left ( \\sigma \\left(- x + y\\right), \\quad x \\left(\\rho - z\\right) - y, \\quad - \\beta z + x y\\right )$$"
      ],
      "text/plain": [
       "(σ⋅(-x + y), x⋅(ρ - z) - y, -β⋅z + x⋅y)"
      ]
     },
     "execution_count": 2,
     "metadata": {},
     "output_type": "execute_result"
    }
   ],
   "source": [
    "#create symbolic variables\n",
    "x, y, z = sympy.symbols('x y z')\n",
    "sigma, rho, beta = sympy.symbols('sigma rho beta')\n",
    "\n",
    "#create symbolic diffEQs\n",
    "dx_dt = sigma * (y - x)\n",
    "dy_dt = x * (rho - z) - y\n",
    "dz_dt = x * y - beta * z\n",
    "\n",
    "#display equations\n",
    "dx_dt, dy_dt, dz_dt"
   ]
  },
  {
   "cell_type": "code",
   "execution_count": 7,
   "metadata": {
    "collapsed": false
   },
   "outputs": [
    {
     "data": {
      "image/png": "[encoded data removed]",
      "text/latex": [
       "$$\\left [ \\sigma \\left(- x + y\\right) = 0, \\quad x \\left(\\rho - z\\right) - y = 0, \\quad - \\beta z + x y = 0\\right ]$$"
      ],
      "text/plain": [
       "[σ⋅(-x + y) = 0, x⋅(ρ - z) - y = 0, -β⋅z + x⋅y = 0]"
      ]
     },
     "execution_count": 7,
     "metadata": {},
     "output_type": "execute_result"
    }
   ],
   "source": [
    "#create steady state equations\n",
    "ss_eqns = [sympy.Eq(dx_dt, 0),sympy.Eq(dy_dt,0),sympy.Eq(dz_dt, 0)]\n",
    "#ss_dy = sympy.Eq(dy_dt, 0)\n",
    "#ss_dz = sympy.Eq(dz_dt, 0)\n",
    "\n",
    "ss_eqns"
   ]
  },
  {
   "cell_type": "code",
   "execution_count": 8,
   "metadata": {
    "collapsed": false
   },
   "outputs": [
    {
     "data": {
      "image/png": "[encoded data removed]",
      "text/latex": [
       "$$\\left [ \\left ( 0, \\quad 0, \\quad 0\\right ), \\quad \\left ( - \\sqrt{\\beta \\rho - \\beta}, \\quad - \\sqrt{\\beta \\left(\\rho - 1\\right)}, \\quad \\rho - 1\\right ), \\quad \\left ( \\sqrt{\\beta \\rho - \\beta}, \\quad \\sqrt{\\beta \\left(\\rho - 1\\right)}, \\quad \\rho - 1\\right )\\right ]$$"
      ],
      "text/plain": [
       "⎡           ⎛   _________     ___________       ⎞  ⎛  _________    ___________\n",
       "⎣(0, 0, 0), ⎝-╲╱ β⋅ρ - β , -╲╱ β⋅(ρ - 1) , ρ - 1⎠, ⎝╲╱ β⋅ρ - β , ╲╱ β⋅(ρ - 1) \n",
       "\n",
       "       ⎞⎤\n",
       ", ρ - 1⎠⎦"
      ]
     },
     "execution_count": 8,
     "metadata": {},
     "output_type": "execute_result"
    }
   ],
   "source": [
    "#solve the system simultaneously for steady states\n",
    "ss_dict = sympy.solve(ss_eqns, [x,y,z])\n",
    "\n",
    "ss_dict"
   ]
  },
  {
   "cell_type": "code",
   "execution_count": 27,
   "metadata": {
    "collapsed": false
   },
   "outputs": [],
   "source": [
    "#create functions for numerical evaluation\n",
    "dx_dt_num = sympy.utilities.lambdify([x, y, sigma], dx_dt)\n",
    "dy_dt_num = sympy.utilities.lambdify([x, y, z, rho], dy_dt)\n",
    "dz_dt_num = sympy.utilities.lambdify([x, y, z, beta], dz_dt)\n",
    "\n",
    "def lorenz_rhs(terms, t):\n",
    "    x_in, y_in, z_in = terms\n",
    "    \n",
    "    #numerical derivatives\n",
    "    dx_dot=dx_dt_num(x_in, y_in, sigma_in)\n",
    "    dy_dot=dy_dt_num(x_in, y_in, z_in, rho_in)\n",
    "    dz_dot=dz_dt_num(x_in, y_in, z_in, beta_in)\n",
    "\n",
    "    return np.array([dx_dot, dy_dot, dz_dot])\n"
   ]
  },
  {
   "cell_type": "code",
   "execution_count": 36,
   "metadata": {
    "collapsed": false
   },
   "outputs": [],
   "source": [
    "u = IntSlider(description = '$\\sigma$')\n",
    "u2= FloatText()\n",
    "u.value = 10\n",
    "jslink((u, 'value'), (u2, 'value'))\n",
    "display(u,u2)\n",
    "\n",
    "v = FloatSlider(description = '$\\rho$')\n",
    "v2= FloatText()\n",
    "v.value = 8/3\n",
    "jslink((v, 'value'), (v2, 'value'))\n",
    "display(v,v2)\n",
    "\n",
    "w = IntSlider(description = '$\\beta$')\n",
    "w2 = FloatText()\n",
    "w.value = 28\n",
    "jslink((w, 'value'), (w2, 'value'))\n",
    "display(w,w2)"
   ]
  },
  {
   "cell_type": "code",
   "execution_count": 38,
   "metadata": {
    "collapsed": false,
    "scrolled": false
   },
   "outputs": [
    {
     "data": {
      "text/plain": [
       "[<mpl_toolkits.mplot3d.art3d.Line3D at 0x1e473b01be0>]"
      ]
     },
     "execution_count": 38,
     "metadata": {},
     "output_type": "execute_result"
    },
    {
     "data": {
      "image/png": "[encoded data removed]",
      "text/plain": [
       "<matplotlib.figure.Figure at 0x1e466928588>"
      ]
     },
     "metadata": {},
     "output_type": "display_data"
    }
   ],
   "source": [
    "#define parameters\n",
    "sigma_in = u.value\n",
    "rho_in = v.value\n",
    "beta_in = w.value\n",
    "\n",
    "#initial condition\n",
    "xyz_0 = [1, 1, 1]\n",
    "\n",
    "#timestep\n",
    "dt = 0.01\n",
    "tf = 1000\n",
    "t = np.linspace(0, tf, tf/dt+1)\n",
    "\n",
    "x_y_z = odeint(lorenz_rhs, xyz_0, t)\n",
    "\n",
    "#plot\n",
    "#sns.set_style({\"axes.linewidth\":\"0.01\"})\n",
    "fig = plt.figure()\n",
    "ax = fig.gca(projection='3d')\n",
    "#ax.set_xlim(-30,30)\n",
    "#ax.set_ylim(-30,30)\n",
    "#ax.set_zlim(0,50)\n",
    "\n",
    "#objects that will change\n",
    "txt_title = ax.set_title('')\n",
    "line = ax.plot([], [], [], 'b', lw=1)[0]\n",
    "pt = ax.plot([], [], [], 'g.', ms=7)[0]\n",
    "#ax.axis('off')\n",
    "\n",
    "#create frames\n",
    "def drawframe(n):\n",
    "    pt.set_data(x_y_z[n,0], x_y_z[n,1])\n",
    "    pt.set_3d_properties(x_y_z[n,2])\n",
    "    line.set_data(x_y_z[:n,0], x_y_z[:n,1])\n",
    "    line.set_3d_properties(x_y_z[:n,2])\n",
    "    txt_title.set_text('Frame = {0:4d}'.format(n))\n",
    "    return (line, pt)\n",
    "\n",
    "#anim = animation.FuncAnimation(fig, drawframe, frames=len(t), interval=20, blit=True)\n",
    "#HTML(anim.to_html5_video())\n",
    "        \n",
    "ax.plot(x_y_z[:,0], x_y_z[:,1], x_y_z[:,2], linewidth=0.05)"
   ]
  },
  {
   "cell_type": "code",
   "execution_count": null,
   "metadata": {
    "collapsed": true
   },
   "outputs": [],
   "source": []
  }
 ],
 "metadata": {
  "anaconda-cloud": {},
  "kernelspec": {
   "display_name": "Python [default]",
   "language": "python",
   "name": "python3"
  },
  "language_info": {
   "codemirror_mode": {
    "name": "ipython",
    "version": 3
   },
   "file_extension": ".py",
   "mimetype": "text/x-python",
   "name": "python",
   "nbconvert_exporter": "python",
   "pygments_lexer": "ipython3",
   "version": "3.5.2"
  },
  "widgets": {
   "state": {
    "008ed17d5a15438fa2862d5c5ff0a199": {
     "views": [
      {
       "cell_index": 6
      }
     ]
    },
    "084bbec84603424ebd68a31bad61ef59": {
     "views": [
      {
       "cell_index": 6
      }
     ]
    },
    "0b5d6dede16448b0b46393be62b8de03": {
     "views": [
      {
       "cell_index": 6
      }
     ]
    },
    "0d1c7ccfa27841659f3ebbf40017a46b": {
     "views": [
      {
       "cell_index": 6
      }
     ]
    },
    "2025508aa8be4006b04105a7e8bf0770": {
     "views": [
      {
       "cell_index": 6
      }
     ]
    },
    "66b782d1c86e43459604f7bd3b22a55a": {
     "views": [
      {
       "cell_index": 6
      }
     ]
    },
    "78466850d8cd4c29ae5c2d9337144086": {
     "views": [
      {
       "cell_index": 6
      }
     ]
    },
    "bd169a5008364e62aea2013f7cd7b2be": {
     "views": [
      {
       "cell_index": 6
      }
     ]
    },
    "d310d2ffb0624499992cecbf80ec5b46": {
     "views": [
      {
       "cell_index": 6
      }
     ]
    },
    "d8b0da8b53424026b76870a82f737764": {
     "views": [
      {
       "cell_index": 6
      }
     ]
    },
    "dabc13b85c944202ab911b3103c48abc": {
     "views": [
      {
       "cell_index": 6
      }
     ]
    },
    "f994aa6e1e8245bbbd4a9d40a664d278": {
     "views": [
      {
       "cell_index": 6
      }
     ]
    }
   },
   "version": "1.2.0"
  }
 },
 "nbformat": 4,
 "nbformat_minor": 1
}
