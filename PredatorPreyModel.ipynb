{
 "cells": [
  {
   "cell_type": "markdown",
   "metadata": {},
   "source": [
    "# Predator-Prey Model  \n",
    "The predator-prey model is a nonlinear relationship between two animals. The Predator eats the Prey, changing its numbers, but the Predator's numbers are also affected because fewer Prey means fewer resources to maintain the Predator population.  \n",
    "\n",
    "### Nonlinear Equations   \n",
    "The coupled nonlinear equations for the relationship are the Lotka-Volterra Equations, which are given as  \n",
    "\n",
    "$$ \\frac{dN_1}{dt} = r_1 N_1 \\Bigg( \\frac{K_1 - N_1 - \\alpha N_2}{K_1} \\Bigg)  $$\n",
    "<br>\n",
    "$$ \\frac{dN_2}{dt} = r_2 N_2 \\Bigg( \\frac{K_2 - N_2 - \\beta N_1}{K_2} \\Bigg)  $$"
   ]
  },
  {
   "cell_type": "code",
   "execution_count": null,
   "metadata": {
    "collapsed": true
   },
   "outputs": [],
   "source": []
  }
 ],
 "metadata": {
  "kernelspec": {
   "display_name": "Python [default]",
   "language": "python",
   "name": "python3"
  },
  "language_info": {
   "codemirror_mode": {
    "name": "ipython",
    "version": 3
   },
   "file_extension": ".py",
   "mimetype": "text/x-python",
   "name": "python",
   "nbconvert_exporter": "python",
   "pygments_lexer": "ipython3",
   "version": "3.5.2"
  }
 },
 "nbformat": 4,
 "nbformat_minor": 1
}
